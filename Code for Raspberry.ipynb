{
 "cells": [
  {
   "cell_type": "markdown",
   "id": "6a095cea",
   "metadata": {},
   "source": [
    "# Code for Raspberry Pi\n",
    "Here we code everything we need for the experiment"
   ]
  },
  {
   "cell_type": "code",
   "execution_count": 8,
   "id": "9efbbd74",
   "metadata": {},
   "outputs": [],
   "source": [
    "import numpy as np\n",
    "import matplotlib as plt\n",
    "import csv\n",
    "import pandas as pd"
   ]
  },
  {
   "cell_type": "markdown",
   "id": "17345147",
   "metadata": {},
   "source": [
    "Writing a CSV file with csv:"
   ]
  },
  {
   "cell_type": "code",
   "execution_count": 5,
   "id": "b54936f5",
   "metadata": {},
   "outputs": [],
   "source": [
    "with open('employee_file.csv', mode='w') as employee_file:\n",
    "    employee_writer = csv.writer(employee_file, delimiter=',', quotechar='\"', quoting=csv.QUOTE_MINIMAL)\n",
    "    \n",
    "    employee_writer.writerow(['John Smith', 'Accounting', 'November'])\n",
    "    employee_writer.writerow(['Erica Meyers', 'IT', 'March'])\n"
   ]
  },
  {
   "cell_type": "markdown",
   "id": "7ed58a6f",
   "metadata": {},
   "source": [
    "Writing a CSV file from a dictionary with csv:"
   ]
  },
  {
   "cell_type": "code",
   "execution_count": 6,
   "id": "fbd43e08",
   "metadata": {},
   "outputs": [],
   "source": [
    "with open('employee_file2.csv', mode='w') as csv_file:\n",
    "    fieldnames = ['emp_name', 'dept', 'birth_month']\n",
    "    writer = csv.DictWriter(csv_file, fieldnames=fieldnames)\n",
    "    \n",
    "    writer.writeheader()\n",
    "    writer.writerow({'emp_name': 'John Smith', 'dept': 'Accounting', 'birth_month': 'November'})\n",
    "    writer.writerow({'emp_name': 'Erica Meyers', 'dept': 'IT', 'birth_month': 'March'})\n"
   ]
  },
  {
   "cell_type": "markdown",
   "id": "6bf45529",
   "metadata": {},
   "source": [
    "Changing an existing CSV file with pandas:"
   ]
  },
  {
   "cell_type": "code",
   "execution_count": 10,
   "id": "ea3c047b",
   "metadata": {},
   "outputs": [],
   "source": [
    "df = pd.read_csv('employee_file2.csv', index_col='Employee', parse_dates=['Hired'], header=0,names=['Employee','Hired','Salary'])\n",
    "df.to_csv('employee_file2_modified.csv')"
   ]
  },
  {
   "cell_type": "markdown",
   "id": "f0863fc9",
   "metadata": {},
   "source": [
    "Writing a CSV file with pandas:"
   ]
  },
  {
   "cell_type": "code",
   "execution_count": 13,
   "id": "b8ce644e",
   "metadata": {},
   "outputs": [],
   "source": [
    "cities = pd.DataFrame([['Sacramento', 'California'], ['Miami', 'Florida']], columns= ['City','State'])\n",
    "cities.to_csv('cities.csv', index=False)"
   ]
  },
  {
   "cell_type": "code",
   "execution_count": 14,
   "id": "b1e8dcfb",
   "metadata": {},
   "outputs": [
    {
     "name": "stdout",
     "output_type": "stream",
     "text": [
      "         City       State\n",
      "0  Sacramento  California\n",
      "1       Miami     Florida\n"
     ]
    }
   ],
   "source": [
    "df_1 = pd.read_csv('cities.csv')\n",
    "print(df_1)"
   ]
  },
  {
   "cell_type": "markdown",
   "id": "3c74cb81",
   "metadata": {},
   "source": [
    "Toy model of CSV for the experiment:"
   ]
  },
  {
   "cell_type": "code",
   "execution_count": 34,
   "id": "bb503561",
   "metadata": {},
   "outputs": [],
   "source": [
    "#Take some function f that takes input of raspberry pi and makes it into a list [Timestamp,0 or 1 for each channel,...]\n",
    "#This is only for storage, not for analysis\n",
    "count_1 = pd.DataFrame([[15,0,0,0,0,0,0,0,0,0,0,0,0,0,0,0,0]], columns=['Timestamp', 'Channel 1', 'Channel 2', 'Channel 3', 'Channel 4', 'Channel 5', 'Channel 6', 'Channel 7', 'Channel 8', 'Channel 9', 'Channel 10', 'Channel 11', 'Channel 12', 'Channel 13', 'Channel 14', 'Channel 15', 'Channel 16'])\n",
    "count_1.to_csv('Toymodel.csv', index=False)"
   ]
  },
  {
   "cell_type": "code",
   "execution_count": 35,
   "id": "fe2dba06",
   "metadata": {},
   "outputs": [
    {
     "name": "stdout",
     "output_type": "stream",
     "text": [
      "   Timestamp  Channel 1  Channel 2  Channel 3  Channel 4  Channel 5  \\\n",
      "0         15          0          0          0          0          0   \n",
      "\n",
      "   Channel 6  Channel 7  Channel 8  Channel 9  Channel 10  Channel 11  \\\n",
      "0          0          0          0          0           0           0   \n",
      "\n",
      "   Channel 12  Channel 13  Channel 14  Channel 15  Channel 16  \n",
      "0           0           0           0           0           0  \n"
     ]
    }
   ],
   "source": [
    "count = pd.read_csv('Toymodel.csv')\n",
    "print(count)"
   ]
  },
  {
   "cell_type": "markdown",
   "id": "0db23f5d",
   "metadata": {},
   "source": [
    "How to add a row in CSV:"
   ]
  },
  {
   "cell_type": "code",
   "execution_count": 33,
   "id": "c054097d",
   "metadata": {},
   "outputs": [
    {
     "name": "stderr",
     "output_type": "stream",
     "text": [
      "C:\\Users\\dschr\\AppData\\Local\\Temp\\ipykernel_16868\\3902021635.py:1: FutureWarning: The frame.append method is deprecated and will be removed from pandas in a future version. Use pandas.concat instead.\n",
      "  count= count.append(pd.Series([17,0,0,0,0,0,1,0,0,0,0,1,0,0,0,0,1]))\n"
     ]
    },
    {
     "ename": "TypeError",
     "evalue": "Can only append a Series if ignore_index=True or if the Series has a name",
     "output_type": "error",
     "traceback": [
      "\u001b[1;31m---------------------------------------------------------------------------\u001b[0m",
      "\u001b[1;31mTypeError\u001b[0m                                 Traceback (most recent call last)",
      "\u001b[1;32m~\\AppData\\Local\\Temp\\ipykernel_16868\\3902021635.py\u001b[0m in \u001b[0;36m<module>\u001b[1;34m\u001b[0m\n\u001b[1;32m----> 1\u001b[1;33m \u001b[0mcount\u001b[0m\u001b[1;33m=\u001b[0m \u001b[0mcount\u001b[0m\u001b[1;33m.\u001b[0m\u001b[0mappend\u001b[0m\u001b[1;33m(\u001b[0m\u001b[0mpd\u001b[0m\u001b[1;33m.\u001b[0m\u001b[0mSeries\u001b[0m\u001b[1;33m(\u001b[0m\u001b[1;33m[\u001b[0m\u001b[1;36m17\u001b[0m\u001b[1;33m,\u001b[0m\u001b[1;36m0\u001b[0m\u001b[1;33m,\u001b[0m\u001b[1;36m0\u001b[0m\u001b[1;33m,\u001b[0m\u001b[1;36m0\u001b[0m\u001b[1;33m,\u001b[0m\u001b[1;36m0\u001b[0m\u001b[1;33m,\u001b[0m\u001b[1;36m0\u001b[0m\u001b[1;33m,\u001b[0m\u001b[1;36m1\u001b[0m\u001b[1;33m,\u001b[0m\u001b[1;36m0\u001b[0m\u001b[1;33m,\u001b[0m\u001b[1;36m0\u001b[0m\u001b[1;33m,\u001b[0m\u001b[1;36m0\u001b[0m\u001b[1;33m,\u001b[0m\u001b[1;36m0\u001b[0m\u001b[1;33m,\u001b[0m\u001b[1;36m1\u001b[0m\u001b[1;33m,\u001b[0m\u001b[1;36m0\u001b[0m\u001b[1;33m,\u001b[0m\u001b[1;36m0\u001b[0m\u001b[1;33m,\u001b[0m\u001b[1;36m0\u001b[0m\u001b[1;33m,\u001b[0m\u001b[1;36m0\u001b[0m\u001b[1;33m,\u001b[0m\u001b[1;36m1\u001b[0m\u001b[1;33m]\u001b[0m\u001b[1;33m)\u001b[0m\u001b[1;33m)\u001b[0m\u001b[1;33m\u001b[0m\u001b[1;33m\u001b[0m\u001b[0m\n\u001b[0m\u001b[0;32m      2\u001b[0m \u001b[0mprint\u001b[0m\u001b[1;33m(\u001b[0m\u001b[0mcount\u001b[0m\u001b[1;33m)\u001b[0m\u001b[1;33m\u001b[0m\u001b[1;33m\u001b[0m\u001b[0m\n",
      "\u001b[1;32m~\\anaconda3\\lib\\site-packages\\pandas\\core\\frame.py\u001b[0m in \u001b[0;36mappend\u001b[1;34m(self, other, ignore_index, verify_integrity, sort)\u001b[0m\n\u001b[0;32m   9763\u001b[0m         )\n\u001b[0;32m   9764\u001b[0m \u001b[1;33m\u001b[0m\u001b[0m\n\u001b[1;32m-> 9765\u001b[1;33m         \u001b[1;32mreturn\u001b[0m \u001b[0mself\u001b[0m\u001b[1;33m.\u001b[0m\u001b[0m_append\u001b[0m\u001b[1;33m(\u001b[0m\u001b[0mother\u001b[0m\u001b[1;33m,\u001b[0m \u001b[0mignore_index\u001b[0m\u001b[1;33m,\u001b[0m \u001b[0mverify_integrity\u001b[0m\u001b[1;33m,\u001b[0m \u001b[0msort\u001b[0m\u001b[1;33m)\u001b[0m\u001b[1;33m\u001b[0m\u001b[1;33m\u001b[0m\u001b[0m\n\u001b[0m\u001b[0;32m   9766\u001b[0m \u001b[1;33m\u001b[0m\u001b[0m\n\u001b[0;32m   9767\u001b[0m     def _append(\n",
      "\u001b[1;32m~\\anaconda3\\lib\\site-packages\\pandas\\core\\frame.py\u001b[0m in \u001b[0;36m_append\u001b[1;34m(self, other, ignore_index, verify_integrity, sort)\u001b[0m\n\u001b[0;32m   9778\u001b[0m                 \u001b[0mother\u001b[0m \u001b[1;33m=\u001b[0m \u001b[0mSeries\u001b[0m\u001b[1;33m(\u001b[0m\u001b[0mother\u001b[0m\u001b[1;33m)\u001b[0m\u001b[1;33m\u001b[0m\u001b[1;33m\u001b[0m\u001b[0m\n\u001b[0;32m   9779\u001b[0m             \u001b[1;32mif\u001b[0m \u001b[0mother\u001b[0m\u001b[1;33m.\u001b[0m\u001b[0mname\u001b[0m \u001b[1;32mis\u001b[0m \u001b[1;32mNone\u001b[0m \u001b[1;32mand\u001b[0m \u001b[1;32mnot\u001b[0m \u001b[0mignore_index\u001b[0m\u001b[1;33m:\u001b[0m\u001b[1;33m\u001b[0m\u001b[1;33m\u001b[0m\u001b[0m\n\u001b[1;32m-> 9780\u001b[1;33m                 raise TypeError(\n\u001b[0m\u001b[0;32m   9781\u001b[0m                     \u001b[1;34m\"Can only append a Series if ignore_index=True \"\u001b[0m\u001b[1;33m\u001b[0m\u001b[1;33m\u001b[0m\u001b[0m\n\u001b[0;32m   9782\u001b[0m                     \u001b[1;34m\"or if the Series has a name\"\u001b[0m\u001b[1;33m\u001b[0m\u001b[1;33m\u001b[0m\u001b[0m\n",
      "\u001b[1;31mTypeError\u001b[0m: Can only append a Series if ignore_index=True or if the Series has a name"
     ]
    }
   ],
   "source": [
    "count= count.append(pd.Series([17,0,0,0,0,0,1,0,0,0,0,1,0,0,0,0,1]))\n",
    "print(count)"
   ]
  },
  {
   "cell_type": "code",
   "execution_count": null,
   "id": "f4d5ba7d",
   "metadata": {},
   "outputs": [],
   "source": [
    "#Define new function g that takes CSV data and converts into matrix [[0,0,0],[0,0,0],[0,0,0]] for data analysis\n",
    "#def g(count):\n",
    "    "
   ]
  }
 ],
 "metadata": {
  "kernelspec": {
   "display_name": "Python 3 (ipykernel)",
   "language": "python",
   "name": "python3"
  },
  "language_info": {
   "codemirror_mode": {
    "name": "ipython",
    "version": 3
   },
   "file_extension": ".py",
   "mimetype": "text/x-python",
   "name": "python",
   "nbconvert_exporter": "python",
   "pygments_lexer": "ipython3",
   "version": "3.9.13"
  }
 },
 "nbformat": 4,
 "nbformat_minor": 5
}
