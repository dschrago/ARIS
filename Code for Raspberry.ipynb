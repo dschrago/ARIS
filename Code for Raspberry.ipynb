{
 "cells": [
  {
   "cell_type": "markdown",
   "id": "6a095cea",
   "metadata": {},
   "source": [
    "# Code for Raspberry Pi\n",
    "Here we code everything we need for the experiment"
   ]
  },
  {
   "cell_type": "code",
   "execution_count": 121,
   "id": "9efbbd74",
   "metadata": {},
   "outputs": [],
   "source": [
    "import numpy as np\n",
    "import matplotlib as plt\n",
    "import csv\n",
    "import pandas as pd"
   ]
  },
  {
   "cell_type": "markdown",
   "id": "17345147",
   "metadata": {},
   "source": [
    "Writing a CSV file with csv:"
   ]
  },
  {
   "cell_type": "code",
   "execution_count": 122,
   "id": "b54936f5",
   "metadata": {},
   "outputs": [],
   "source": [
    "with open('employee_file.csv', mode='w') as employee_file:\n",
    "    employee_writer = csv.writer(employee_file, delimiter=',', quotechar='\"', quoting=csv.QUOTE_MINIMAL)\n",
    "    \n",
    "    employee_writer.writerow(['John Smith', 'Accounting', 'November'])\n",
    "    employee_writer.writerow(['Erica Meyers', 'IT', 'March'])\n"
   ]
  },
  {
   "cell_type": "markdown",
   "id": "7ed58a6f",
   "metadata": {},
   "source": [
    "Writing a CSV file from a dictionary with csv:"
   ]
  },
  {
   "cell_type": "code",
   "execution_count": 123,
   "id": "fbd43e08",
   "metadata": {},
   "outputs": [],
   "source": [
    "with open('employee_file2.csv', mode='w') as csv_file:\n",
    "    fieldnames = ['emp_name', 'dept', 'birth_month']\n",
    "    writer = csv.DictWriter(csv_file, fieldnames=fieldnames)\n",
    "    \n",
    "    writer.writeheader()\n",
    "    writer.writerow({'emp_name': 'John Smith', 'dept': 'Accounting', 'birth_month': 'November'})\n",
    "    writer.writerow({'emp_name': 'Erica Meyers', 'dept': 'IT', 'birth_month': 'March'})\n"
   ]
  },
  {
   "cell_type": "markdown",
   "id": "6bf45529",
   "metadata": {},
   "source": [
    "Changing an existing CSV file with pandas:"
   ]
  },
  {
   "cell_type": "code",
   "execution_count": 124,
   "id": "ea3c047b",
   "metadata": {},
   "outputs": [],
   "source": [
    "df = pd.read_csv('employee_file2.csv', index_col='Employee', parse_dates=['Hired'], header=0,names=['Employee','Hired','Salary'])\n",
    "df.to_csv('employee_file2_modified.csv')"
   ]
  },
  {
   "cell_type": "markdown",
   "id": "d126eeb0",
   "metadata": {},
   "source": [
    "Writing a CSV file with pandas:"
   ]
  },
  {
   "cell_type": "code",
   "execution_count": 125,
   "id": "d91d44dc",
   "metadata": {},
   "outputs": [],
   "source": [
    "cities = pd.DataFrame([['Sacramento', 'California'], ['Miami', 'Florida']], columns= ['City','State'])\n",
    "cities.to_csv('cities.csv', index=False)"
   ]
  },
  {
   "cell_type": "code",
   "execution_count": 126,
   "id": "160e1cdf",
   "metadata": {},
   "outputs": [
    {
     "name": "stdout",
     "output_type": "stream",
     "text": [
      "         City       State\n",
      "0  Sacramento  California\n",
      "1       Miami     Florida\n"
     ]
    }
   ],
   "source": [
    "df_1 = pd.read_csv('cities.csv')\n",
    "print(df_1)"
   ]
  },
  {
   "cell_type": "markdown",
   "id": "330e72b8",
   "metadata": {},
   "source": [
    "Toy model of CSV for the experiment:"
   ]
  },
  {
   "cell_type": "code",
   "execution_count": 127,
   "id": "4ff43d5d",
   "metadata": {},
   "outputs": [],
   "source": [
    "#Take some function f that takes input of raspberry pi and makes it into a list [Timestamp,0 or 1 for each channel,...]\n",
    "#This is only for storage, not for analysis\n",
    "count_1 = pd.DataFrame([[15,0,0,1,0,0,0,0,0,0,1,0,0,0,0,0,0]], columns=['Timestamp', 'Channel 1', 'Channel 2', 'Channel 3', 'Channel 4', 'Channel 5', 'Channel 6', 'Channel 7', 'Channel 8', 'Channel 9', 'Channel 10', 'Channel 11', 'Channel 12', 'Channel 13', 'Channel 14', 'Channel 15', 'Channel 16'])\n",
    "count_1.to_csv('Toymodel.csv', index=False)"
   ]
  },
  {
   "cell_type": "code",
   "execution_count": 128,
   "id": "f0fa7602",
   "metadata": {},
   "outputs": [
    {
     "name": "stdout",
     "output_type": "stream",
     "text": [
      "   Timestamp  Channel 1  Channel 2  Channel 3  Channel 4  Channel 5  \\\n",
      "0         15          0          0          1          0          0   \n",
      "\n",
      "   Channel 6  Channel 7  Channel 8  Channel 9  Channel 10  Channel 11  \\\n",
      "0          0          0          0          0           1           0   \n",
      "\n",
      "   Channel 12  Channel 13  Channel 14  Channel 15  Channel 16  \n",
      "0           0           0           0           0           0  \n"
     ]
    }
   ],
   "source": [
    "count = pd.read_csv('Toymodel.csv')\n",
    "print(count)"
   ]
  },
  {
   "cell_type": "markdown",
   "id": "ff2bf35e",
   "metadata": {},
   "source": [
    "How to add a row in CSV:"
   ]
  },
  {
   "cell_type": "code",
   "execution_count": 129,
   "id": "314eb6cf",
   "metadata": {},
   "outputs": [
    {
     "name": "stdout",
     "output_type": "stream",
     "text": [
      "   Timestamp  Channel 1  Channel 2  Channel 3  Channel 4  Channel 5  \\\n",
      "0         15          0          0          1          0          0   \n",
      "1         16          0          0          0          0          0   \n",
      "\n",
      "   Channel 6  Channel 7  Channel 8  Channel 9  Channel 10  Channel 11  \\\n",
      "0          0          0          0          0           1           0   \n",
      "1          0          1          0          0           0           1   \n",
      "\n",
      "   Channel 12  Channel 13  Channel 14  Channel 15  Channel 16  \n",
      "0           0           0           0           0           0  \n",
      "1           0           0           0           0           0  \n"
     ]
    }
   ],
   "source": [
    "count.loc[len(count)] = [16,0,0,0,0,0,0,1,0,0,0,1,0,0,0,0,0]\n",
    "print(count)"
   ]
  },
  {
   "cell_type": "code",
   "execution_count": 133,
   "id": "0f5e14f2",
   "metadata": {},
   "outputs": [
    {
     "name": "stdout",
     "output_type": "stream",
     "text": [
      "[[0. 0. 1. 0.]\n",
      " [0. 0. 0. 0.]\n",
      " [0. 1. 0. 0.]\n",
      " [0. 0. 0. 0.]]\n",
      "[[0. 0. 0. 0.]\n",
      " [0. 0. 1. 0.]\n",
      " [0. 0. 1. 0.]\n",
      " [0. 0. 0. 0.]]\n"
     ]
    }
   ],
   "source": [
    "#1)\n",
    "#Define new function g that takes CSV data and converts into matrix [[0,0,0,0],[0,0,0,0],[0,0,0,0],[0,0,0,0]] for data analysis\n",
    "def g(count):\n",
    "    event1 = np.zeros((4,4))\n",
    "    event2 = np.zeros((4,4))\n",
    "\n",
    "    event_1 = count.to_numpy()[0]\n",
    "    event_2 = count.to_numpy()[1]\n",
    "    \n",
    "    event1[0,:] = event_1[1:5]\n",
    "    event1[1,:] = event_1[5:9]\n",
    "    event1[2,:] = event_1[9:13]\n",
    "    event1[3,:] = event_1[13:17]\n",
    "    \n",
    "    event2[0,:] = event_2[1:5]\n",
    "    event2[1,:] = event_2[5:9]\n",
    "    event2[2,:] = event_2[9:13]\n",
    "    event2[3,:] = event_2[13:17]\n",
    "    #event_1 = count.loc[len(0)]\n",
    "    print(event1)\n",
    "    print(event2)\n",
    "    \n",
    "    #event_whole = np.array[event_1]\n",
    "    \n",
    "g(count)\n",
    "    "
   ]
  },
  {
   "cell_type": "markdown",
   "id": "b6319306",
   "metadata": {},
   "source": [
    "1) We need a function converting CSV into 4x4 matrix (WDB) (check)\n",
    "2) We need a function that saves Gyroscope data (CSV) (check)\n",
    "Data format accelerometer: CSV with quaternions for x,y,z direction\n",
    "Data format gyroscope: quaternions \n",
    "3) We need a function that converts Gyroscope data into rotation matrix (check)\n",
    "4) We need a function to determine correlation for 4x4 matrix\n",
    "5) We need a function to filter noise\n",
    "6) We need a function that converts matrix to vector\n",
    "7) We need a time comparison function"
   ]
  },
  {
   "cell_type": "code",
   "execution_count": 144,
   "id": "04222ee2",
   "metadata": {},
   "outputs": [
    {
     "name": "stdout",
     "output_type": "stream",
     "text": [
      "[[ 1  0  0]\n",
      " [ 0 -1  0]\n",
      " [ 0  0 -1]]\n",
      "[ 0 -1  0]\n"
     ]
    }
   ],
   "source": [
    "#3) This function takes the quaternions of the gyroscope and translates them into a 3x3 rotation matrix for spatial vectors\n",
    "def quaternion_rotation_matrix(Q):\n",
    "    \"\"\"\n",
    "    Covert a quaternion into a full three-dimensional rotation matrix.\n",
    " \n",
    "    Input\n",
    "    :param Q: A 4 element array representing the quaternion (q0,q1,q2,q3) \n",
    " \n",
    "    Output\n",
    "    :return: A 3x3 element matrix representing the full 3D rotation matrix. \n",
    "             This rotation matrix converts a point in the local reference \n",
    "             frame to a point in the global reference frame.\n",
    "    \"\"\"\n",
    "    # Extract the values from Q\n",
    "    q0 = Q[0]\n",
    "    q1 = Q[1]\n",
    "    q2 = Q[2]\n",
    "    q3 = Q[3]\n",
    "     \n",
    "    # First row of the rotation matrix\n",
    "    r00 = 2 * (q0 * q0 + q1 * q1) - 1\n",
    "    r01 = 2 * (q1 * q2 - q0 * q3)\n",
    "    r02 = 2 * (q1 * q3 + q0 * q2)\n",
    "     \n",
    "    # Second row of the rotation matrix\n",
    "    r10 = 2 * (q1 * q2 + q0 * q3)\n",
    "    r11 = 2 * (q0 * q0 + q2 * q2) - 1\n",
    "    r12 = 2 * (q2 * q3 - q0 * q1)\n",
    "     \n",
    "    # Third row of the rotation matrix\n",
    "    r20 = 2 * (q1 * q3 - q0 * q2)\n",
    "    r21 = 2 * (q2 * q3 + q0 * q1)\n",
    "    r22 = 2 * (q0 * q0 + q3 * q3) - 1\n",
    "     \n",
    "    # 3x3 rotation matrix\n",
    "    rot_matrix = np.array([[r00, r01, r02],\n",
    "                           [r10, r11, r12],\n",
    "                           [r20, r21, r22]])\n",
    "                            \n",
    "    return rot_matrix\n",
    "\n",
    "vec = np.array([0,1,0])\n",
    "#Mirroring around y and z-axis:\n",
    "Q = np.array([0,1,0,0])\n",
    "Q_n = quaternion_rotation_matrix(Q)\n",
    "\n",
    "vec_n = np.dot(Q_n,vec)\n",
    "print(Q_n)\n",
    "print(vec_n)\n",
    "\n"
   ]
  },
  {
   "cell_type": "code",
   "execution_count": 167,
   "id": "8c7b047e",
   "metadata": {},
   "outputs": [
    {
     "name": "stdout",
     "output_type": "stream",
     "text": [
      "1\n",
      "3\n",
      "2\n",
      "4\n"
     ]
    }
   ],
   "source": [
    "#6) Takes 4x4 matrix M and converts into a spatial vector. Define unit for distance u\n",
    "def get_vector(M):\n",
    "    u = 1\n",
    "    \n",
    "    row_1_theta = M[0,:]\n",
    "    row_2_theta = M[2,:]\n",
    "    \n",
    "    row_1_phi = M[1,:]\n",
    "    row_2_phi = M[3,:]\n",
    "    \n",
    "    count_1_theta = 1\n",
    "    count_2_theta = 1\n",
    "    count_1_phi = 4\n",
    "    count_2_phi = 4\n",
    "    \n",
    "    #gives us which scintillator detected a muon in upper layer (1) for theta\n",
    "    \n",
    "    for i in range(3):\n",
    "        if (row_1_theta[i] != 1):\n",
    "            count_1_theta = count_1_theta + 1\n",
    "            continue\n",
    "        else:\n",
    "            break\n",
    "            \n",
    "    #gives us which scintillator detected a muon in lower layer (3) for theta\n",
    "    \n",
    "    for i in range(3):\n",
    "        if (row_2_theta[i] != 1):\n",
    "            count_2_theta = count_2_theta + 1\n",
    "            continue\n",
    "        else:\n",
    "            break\n",
    "    \n",
    "    #gives us which scintillator detected a muon in upper layer (2) for phi\n",
    "    \n",
    "    for i in range(3):\n",
    "        if (row_1_phi[i] != 1):\n",
    "            count_1_phi = count_1_phi - 1\n",
    "            continue\n",
    "        else:\n",
    "            break\n",
    "            \n",
    "    #gives us which scintillator detected a muon in lower layer (4) for phi\n",
    "            \n",
    "    for i in range(3):\n",
    "        if (row_2_phi[i] != 1):\n",
    "            count_2_phi = count_2_phi - 1\n",
    "            continue\n",
    "        else:\n",
    "            break\n",
    "    \n",
    "    print(count_1_theta)\n",
    "    print(count_2_theta)\n",
    "    print(count_1_phi)\n",
    "    print(count_2_phi)\n",
    "    \n",
    "    #we shift our coordinate system to get a centered coordinate system based on unit u\n",
    "    count_1_theta = count_1_theta - 2.5*u\n",
    "    count_2_theta = count_2_theta - 2.5*u\n",
    "    count_1_phi = count_1_phi - 2.5*u\n",
    "    count_2_phi = count_2_phi - 2.5*u\n",
    "\n",
    "    print(count_1_theta)\n",
    "    print(count_2_theta)\n",
    "    print(count_1_phi)\n",
    "    print(count_2_phi)\n",
    "    \n",
    "    delta_y = count_2_theta-count_1_theta\n",
    "    delta_x = count_2_phi-count_1_phi\n",
    "    delta_z = -2*u\n",
    "    \n",
    "    #Get the angles corresponding to the triangle constructed above\n",
    "    #theta = np.arctan(2/(count_1_theta-count_2_theta))\n",
    "    #phi = np.arctan(2/(count_1_phi-count_2_phi))\n",
    "    \n",
    "    ##################################CORRECTION IDEA#####################################\n",
    "    \n",
    "    if delta_y == 0:\n",
    "        delta_y = 1\n",
    "    \n",
    "    print(\"Delta_y:\")\n",
    "    print(delta_y)\n",
    "    print(\"Delta_x:\")\n",
    "    print(delta_x)\n",
    "    \n",
    "    vector_alt = np.array([delta_x, delta_y, delta_z])\n",
    "        \n",
    "    print(\"Alternative vector:\")\n",
    "    print(vector_alt)\n",
    "    \n",
    "    r = np.sqrt(delta_x**2+delta_y**2+delta_z**2)\n",
    "    \n",
    "    theta_alt = np.arccos((-delta_z)/r)\n",
    "    print(\"Alternative angle:\")\n",
    "    print(theta_alt)\n",
    "    \n",
    "    ######################################################################################\n",
    "    \n",
    "    #print(\"Calculated angle theta:\")\n",
    "    #print(theta)\n",
    "    #print(\"Calculated angle phi:\")\n",
    "    #print(phi)\n",
    "    \n",
    "    #Get the vector by transforming back into cartesian coordinates\n",
    "    #x = np.sin(theta)*np.cos(phi)\n",
    "    #y = np.sin(theta)*np.sin(phi)\n",
    "    #z = np.cos(theta)\n",
    "    \n",
    "    #vector = np.array([x,y,z])\n",
    "    #print(\"Calculated vector:\")\n",
    "    #print(vector)\n",
    "    \n",
    "    #rotate vector with rotation matrix\n",
    "    Q = np.array([0,1,0,0])\n",
    "    Q_n = quaternion_rotation_matrix(Q)\n",
    "    \n",
    "    vector_n = np.dot(Q_n,vector_alt)\n",
    "    print(\"Rotated vector:\")\n",
    "    print(vector_n)\n",
    "    \n",
    "    #return(theta, phi, vector_n)\n",
    "\n",
    "\n",
    "M = np.array([[1,0,0,0],[0,1,0,0],[0,0,1,0],[0,1,0,0]])\n",
    "get_vector(M)\n",
    "\n",
    "    \n",
    "    "
   ]
  },
  {
   "cell_type": "code",
   "execution_count": null,
   "id": "aabab82b",
   "metadata": {},
   "outputs": [],
   "source": [
    "Test\n"
   ]
  },
  {
   "cell_type": "code",
   "execution_count": null,
   "id": "10446e4e",
   "metadata": {},
   "outputs": [],
   "source": []
  }
 ],
 "metadata": {
  "kernelspec": {
   "display_name": "Python 3 (ipykernel)",
   "language": "python",
   "name": "python3"
  },
  "language_info": {
   "codemirror_mode": {
    "name": "ipython",
    "version": 3
   },
   "file_extension": ".py",
   "mimetype": "text/x-python",
   "name": "python",
   "nbconvert_exporter": "python",
   "pygments_lexer": "ipython3",
   "version": "3.9.13"
  }
 },
 "nbformat": 4,
 "nbformat_minor": 5
}
